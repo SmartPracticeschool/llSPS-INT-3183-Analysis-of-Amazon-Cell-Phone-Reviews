{
 "cells": [
  {
   "cell_type": "markdown",
   "metadata": {},
   "source": [
    "# Analysis of Cell Phone Reviews"
   ]
  },
  {
   "cell_type": "markdown",
   "metadata": {},
   "source": [
    "***************************************************"
   ]
  },
  {
   "cell_type": "markdown",
   "metadata": {},
   "source": [
    "## Importing required libraries"
   ]
  },
  {
   "cell_type": "code",
   "execution_count": 1,
   "metadata": {},
   "outputs": [],
   "source": [
    "import numpy as np\n",
    "import pandas as pd\n",
    "import matplotlib.pyplot as plt"
   ]
  },
  {
   "cell_type": "markdown",
   "metadata": {},
   "source": [
    "## Importing and cleaning the dataset"
   ]
  },
  {
   "cell_type": "code",
   "execution_count": 2,
   "metadata": {},
   "outputs": [],
   "source": [
    "df = pd.read_csv('data/20191226-reviews.csv')"
   ]
  },
  {
   "cell_type": "code",
   "execution_count": 3,
   "metadata": {},
   "outputs": [
    {
     "data": {
      "text/html": [
       "<div>\n",
       "<style scoped>\n",
       "    .dataframe tbody tr th:only-of-type {\n",
       "        vertical-align: middle;\n",
       "    }\n",
       "\n",
       "    .dataframe tbody tr th {\n",
       "        vertical-align: top;\n",
       "    }\n",
       "\n",
       "    .dataframe thead th {\n",
       "        text-align: right;\n",
       "    }\n",
       "</style>\n",
       "<table border=\"1\" class=\"dataframe\">\n",
       "  <thead>\n",
       "    <tr style=\"text-align: right;\">\n",
       "      <th></th>\n",
       "      <th>asin</th>\n",
       "      <th>name</th>\n",
       "      <th>rating</th>\n",
       "      <th>date</th>\n",
       "      <th>verified</th>\n",
       "      <th>title</th>\n",
       "      <th>body</th>\n",
       "      <th>helpfulVotes</th>\n",
       "    </tr>\n",
       "  </thead>\n",
       "  <tbody>\n",
       "    <tr>\n",
       "      <th>0</th>\n",
       "      <td>B0000SX2UC</td>\n",
       "      <td>Janet</td>\n",
       "      <td>3</td>\n",
       "      <td>October 11, 2005</td>\n",
       "      <td>False</td>\n",
       "      <td>Def not best, but not worst</td>\n",
       "      <td>I had the Samsung A600 for awhile which is abs...</td>\n",
       "      <td>1.0</td>\n",
       "    </tr>\n",
       "    <tr>\n",
       "      <th>1</th>\n",
       "      <td>B0000SX2UC</td>\n",
       "      <td>Luke Wyatt</td>\n",
       "      <td>1</td>\n",
       "      <td>January 7, 2004</td>\n",
       "      <td>False</td>\n",
       "      <td>Text Messaging Doesn't Work</td>\n",
       "      <td>Due to a software issue between Nokia and Spri...</td>\n",
       "      <td>17.0</td>\n",
       "    </tr>\n",
       "    <tr>\n",
       "      <th>2</th>\n",
       "      <td>B0000SX2UC</td>\n",
       "      <td>Brooke</td>\n",
       "      <td>5</td>\n",
       "      <td>December 30, 2003</td>\n",
       "      <td>False</td>\n",
       "      <td>Love This Phone</td>\n",
       "      <td>This is a great, reliable phone. I also purcha...</td>\n",
       "      <td>5.0</td>\n",
       "    </tr>\n",
       "    <tr>\n",
       "      <th>3</th>\n",
       "      <td>B0000SX2UC</td>\n",
       "      <td>amy m. teague</td>\n",
       "      <td>3</td>\n",
       "      <td>March 18, 2004</td>\n",
       "      <td>False</td>\n",
       "      <td>Love the Phone, BUT...!</td>\n",
       "      <td>I love the phone and all, because I really did...</td>\n",
       "      <td>1.0</td>\n",
       "    </tr>\n",
       "    <tr>\n",
       "      <th>4</th>\n",
       "      <td>B0000SX2UC</td>\n",
       "      <td>tristazbimmer</td>\n",
       "      <td>4</td>\n",
       "      <td>August 28, 2005</td>\n",
       "      <td>False</td>\n",
       "      <td>Great phone service and options, lousy case!</td>\n",
       "      <td>The phone has been great for every purpose it ...</td>\n",
       "      <td>1.0</td>\n",
       "    </tr>\n",
       "  </tbody>\n",
       "</table>\n",
       "</div>"
      ],
      "text/plain": [
       "         asin           name  rating               date  verified  \\\n",
       "0  B0000SX2UC          Janet       3   October 11, 2005     False   \n",
       "1  B0000SX2UC     Luke Wyatt       1    January 7, 2004     False   \n",
       "2  B0000SX2UC         Brooke       5  December 30, 2003     False   \n",
       "3  B0000SX2UC  amy m. teague       3     March 18, 2004     False   \n",
       "4  B0000SX2UC  tristazbimmer       4    August 28, 2005     False   \n",
       "\n",
       "                                          title  \\\n",
       "0                   Def not best, but not worst   \n",
       "1                   Text Messaging Doesn't Work   \n",
       "2                               Love This Phone   \n",
       "3                       Love the Phone, BUT...!   \n",
       "4  Great phone service and options, lousy case!   \n",
       "\n",
       "                                                body  helpfulVotes  \n",
       "0  I had the Samsung A600 for awhile which is abs...           1.0  \n",
       "1  Due to a software issue between Nokia and Spri...          17.0  \n",
       "2  This is a great, reliable phone. I also purcha...           5.0  \n",
       "3  I love the phone and all, because I really did...           1.0  \n",
       "4  The phone has been great for every purpose it ...           1.0  "
      ]
     },
     "execution_count": 3,
     "metadata": {},
     "output_type": "execute_result"
    }
   ],
   "source": [
    "df.head()"
   ]
  },
  {
   "cell_type": "code",
   "execution_count": 4,
   "metadata": {},
   "outputs": [
    {
     "data": {
      "text/plain": [
       "(67986, 8)"
      ]
     },
     "execution_count": 4,
     "metadata": {},
     "output_type": "execute_result"
    }
   ],
   "source": [
    "df.shape"
   ]
  },
  {
   "cell_type": "code",
   "execution_count": 5,
   "metadata": {},
   "outputs": [
    {
     "name": "stdout",
     "output_type": "stream",
     "text": [
      "<class 'pandas.core.frame.DataFrame'>\n",
      "RangeIndex: 67986 entries, 0 to 67985\n",
      "Data columns (total 8 columns):\n",
      " #   Column        Non-Null Count  Dtype  \n",
      "---  ------        --------------  -----  \n",
      " 0   asin          67986 non-null  object \n",
      " 1   name          67984 non-null  object \n",
      " 2   rating        67986 non-null  int64  \n",
      " 3   date          67986 non-null  object \n",
      " 4   verified      67986 non-null  bool   \n",
      " 5   title         67972 non-null  object \n",
      " 6   body          67965 non-null  object \n",
      " 7   helpfulVotes  27215 non-null  float64\n",
      "dtypes: bool(1), float64(1), int64(1), object(5)\n",
      "memory usage: 3.7+ MB\n"
     ]
    }
   ],
   "source": [
    "df.info()"
   ]
  },
  {
   "cell_type": "code",
   "execution_count": 6,
   "metadata": {},
   "outputs": [
    {
     "data": {
      "text/plain": [
       "asin                0\n",
       "name                2\n",
       "rating              0\n",
       "date                0\n",
       "verified            0\n",
       "title              14\n",
       "body               21\n",
       "helpfulVotes    40771\n",
       "dtype: int64"
      ]
     },
     "execution_count": 6,
     "metadata": {},
     "output_type": "execute_result"
    }
   ],
   "source": [
    "df.isnull().sum()"
   ]
  },
  {
   "cell_type": "markdown",
   "metadata": {},
   "source": [
    "- We have $14$ null values in the rating column of our dataset.\n",
    "- We have to drop the null values."
   ]
  },
  {
   "cell_type": "code",
   "execution_count": 7,
   "metadata": {},
   "outputs": [],
   "source": [
    "title_miss = df[df.title.isnull()]"
   ]
  },
  {
   "cell_type": "code",
   "execution_count": 8,
   "metadata": {},
   "outputs": [
    {
     "data": {
      "text/html": [
       "<div>\n",
       "<style scoped>\n",
       "    .dataframe tbody tr th:only-of-type {\n",
       "        vertical-align: middle;\n",
       "    }\n",
       "\n",
       "    .dataframe tbody tr th {\n",
       "        vertical-align: top;\n",
       "    }\n",
       "\n",
       "    .dataframe thead th {\n",
       "        text-align: right;\n",
       "    }\n",
       "</style>\n",
       "<table border=\"1\" class=\"dataframe\">\n",
       "  <thead>\n",
       "    <tr style=\"text-align: right;\">\n",
       "      <th></th>\n",
       "      <th>asin</th>\n",
       "      <th>name</th>\n",
       "      <th>rating</th>\n",
       "      <th>date</th>\n",
       "      <th>verified</th>\n",
       "      <th>title</th>\n",
       "      <th>body</th>\n",
       "      <th>helpfulVotes</th>\n",
       "    </tr>\n",
       "  </thead>\n",
       "  <tbody>\n",
       "    <tr>\n",
       "      <th>30010</th>\n",
       "      <td>B01NB1KG8U</td>\n",
       "      <td>Sylvester Ofosuhene</td>\n",
       "      <td>5</td>\n",
       "      <td>December 24, 2019</td>\n",
       "      <td>True</td>\n",
       "      <td>NaN</td>\n",
       "      <td>NaN</td>\n",
       "      <td>NaN</td>\n",
       "    </tr>\n",
       "    <tr>\n",
       "      <th>30949</th>\n",
       "      <td>B06XR1K6HR</td>\n",
       "      <td>MOHAMED ALI</td>\n",
       "      <td>5</td>\n",
       "      <td>January 17, 2019</td>\n",
       "      <td>True</td>\n",
       "      <td>NaN</td>\n",
       "      <td>Almost like pretty new</td>\n",
       "      <td>NaN</td>\n",
       "    </tr>\n",
       "    <tr>\n",
       "      <th>32883</th>\n",
       "      <td>B06XSF5C42</td>\n",
       "      <td>Candice</td>\n",
       "      <td>5</td>\n",
       "      <td>June 13, 2019</td>\n",
       "      <td>True</td>\n",
       "      <td>NaN</td>\n",
       "      <td>Love this phone. Everything's worked great. So...</td>\n",
       "      <td>NaN</td>\n",
       "    </tr>\n",
       "    <tr>\n",
       "      <th>35016</th>\n",
       "      <td>B071H9KKKF</td>\n",
       "      <td>Wauany</td>\n",
       "      <td>5</td>\n",
       "      <td>June 17, 2018</td>\n",
       "      <td>True</td>\n",
       "      <td>NaN</td>\n",
       "      <td>Like the phone so far!!! Never had an expensiv...</td>\n",
       "      <td>NaN</td>\n",
       "    </tr>\n",
       "    <tr>\n",
       "      <th>42935</th>\n",
       "      <td>B077T4MVZ6</td>\n",
       "      <td>Evaldina</td>\n",
       "      <td>4</td>\n",
       "      <td>November 14, 2018</td>\n",
       "      <td>True</td>\n",
       "      <td>NaN</td>\n",
       "      <td>Love it</td>\n",
       "      <td>NaN</td>\n",
       "    </tr>\n",
       "    <tr>\n",
       "      <th>45899</th>\n",
       "      <td>B079X7DQ4Q</td>\n",
       "      <td>Roberto</td>\n",
       "      <td>5</td>\n",
       "      <td>November 25, 2019</td>\n",
       "      <td>True</td>\n",
       "      <td>NaN</td>\n",
       "      <td>NaN</td>\n",
       "      <td>NaN</td>\n",
       "    </tr>\n",
       "    <tr>\n",
       "      <th>45905</th>\n",
       "      <td>B079X7DQ4Q</td>\n",
       "      <td>Mahmood al rahawi</td>\n",
       "      <td>5</td>\n",
       "      <td>December 7, 2018</td>\n",
       "      <td>True</td>\n",
       "      <td>NaN</td>\n",
       "      <td>I get that phone I needed ,, thanks .</td>\n",
       "      <td>NaN</td>\n",
       "    </tr>\n",
       "    <tr>\n",
       "      <th>46470</th>\n",
       "      <td>B07BHT4KGM</td>\n",
       "      <td>Roberto</td>\n",
       "      <td>5</td>\n",
       "      <td>November 25, 2019</td>\n",
       "      <td>True</td>\n",
       "      <td>NaN</td>\n",
       "      <td>NaN</td>\n",
       "      <td>NaN</td>\n",
       "    </tr>\n",
       "    <tr>\n",
       "      <th>46476</th>\n",
       "      <td>B07BHT4KGM</td>\n",
       "      <td>Mahmood al rahawi</td>\n",
       "      <td>5</td>\n",
       "      <td>December 7, 2018</td>\n",
       "      <td>True</td>\n",
       "      <td>NaN</td>\n",
       "      <td>I get that phone I needed ,, thanks .</td>\n",
       "      <td>NaN</td>\n",
       "    </tr>\n",
       "    <tr>\n",
       "      <th>50404</th>\n",
       "      <td>B07FZH9BGV</td>\n",
       "      <td>Henry</td>\n",
       "      <td>5</td>\n",
       "      <td>November 1, 2018</td>\n",
       "      <td>True</td>\n",
       "      <td>NaN</td>\n",
       "      <td>Great phone...A++</td>\n",
       "      <td>1.0</td>\n",
       "    </tr>\n",
       "    <tr>\n",
       "      <th>58439</th>\n",
       "      <td>B07NZXXZB2</td>\n",
       "      <td>RRaRay</td>\n",
       "      <td>5</td>\n",
       "      <td>July 3, 2019</td>\n",
       "      <td>True</td>\n",
       "      <td>NaN</td>\n",
       "      <td>It was s good purchase</td>\n",
       "      <td>NaN</td>\n",
       "    </tr>\n",
       "    <tr>\n",
       "      <th>61074</th>\n",
       "      <td>B07Q84DPZH</td>\n",
       "      <td>Lee</td>\n",
       "      <td>5</td>\n",
       "      <td>November 29, 2019</td>\n",
       "      <td>True</td>\n",
       "      <td>NaN</td>\n",
       "      <td>NaN</td>\n",
       "      <td>NaN</td>\n",
       "    </tr>\n",
       "    <tr>\n",
       "      <th>61329</th>\n",
       "      <td>B07Q84DPZH</td>\n",
       "      <td>Janice B.</td>\n",
       "      <td>5</td>\n",
       "      <td>June 29, 2019</td>\n",
       "      <td>True</td>\n",
       "      <td>NaN</td>\n",
       "      <td>It was okay no dislikes yet</td>\n",
       "      <td>NaN</td>\n",
       "    </tr>\n",
       "    <tr>\n",
       "      <th>64371</th>\n",
       "      <td>B07V5KS95Y</td>\n",
       "      <td>Viet Nguyen</td>\n",
       "      <td>5</td>\n",
       "      <td>December 22, 2019</td>\n",
       "      <td>True</td>\n",
       "      <td>NaN</td>\n",
       "      <td>NaN</td>\n",
       "      <td>NaN</td>\n",
       "    </tr>\n",
       "  </tbody>\n",
       "</table>\n",
       "</div>"
      ],
      "text/plain": [
       "             asin                 name  rating               date  verified  \\\n",
       "30010  B01NB1KG8U  Sylvester Ofosuhene       5  December 24, 2019      True   \n",
       "30949  B06XR1K6HR          MOHAMED ALI       5   January 17, 2019      True   \n",
       "32883  B06XSF5C42              Candice       5      June 13, 2019      True   \n",
       "35016  B071H9KKKF               Wauany       5      June 17, 2018      True   \n",
       "42935  B077T4MVZ6             Evaldina       4  November 14, 2018      True   \n",
       "45899  B079X7DQ4Q              Roberto       5  November 25, 2019      True   \n",
       "45905  B079X7DQ4Q    Mahmood al rahawi       5   December 7, 2018      True   \n",
       "46470  B07BHT4KGM              Roberto       5  November 25, 2019      True   \n",
       "46476  B07BHT4KGM    Mahmood al rahawi       5   December 7, 2018      True   \n",
       "50404  B07FZH9BGV                Henry       5   November 1, 2018      True   \n",
       "58439  B07NZXXZB2               RRaRay       5       July 3, 2019      True   \n",
       "61074  B07Q84DPZH                  Lee       5  November 29, 2019      True   \n",
       "61329  B07Q84DPZH            Janice B.       5      June 29, 2019      True   \n",
       "64371  B07V5KS95Y          Viet Nguyen       5  December 22, 2019      True   \n",
       "\n",
       "      title                                               body  helpfulVotes  \n",
       "30010   NaN                                                NaN           NaN  \n",
       "30949   NaN                             Almost like pretty new           NaN  \n",
       "32883   NaN  Love this phone. Everything's worked great. So...           NaN  \n",
       "35016   NaN  Like the phone so far!!! Never had an expensiv...           NaN  \n",
       "42935   NaN                                            Love it           NaN  \n",
       "45899   NaN                                                NaN           NaN  \n",
       "45905   NaN              I get that phone I needed ,, thanks .           NaN  \n",
       "46470   NaN                                                NaN           NaN  \n",
       "46476   NaN              I get that phone I needed ,, thanks .           NaN  \n",
       "50404   NaN                                  Great phone...A++           1.0  \n",
       "58439   NaN                             It was s good purchase           NaN  \n",
       "61074   NaN                                                NaN           NaN  \n",
       "61329   NaN                        It was okay no dislikes yet           NaN  \n",
       "64371   NaN                                                NaN           NaN  "
      ]
     },
     "execution_count": 8,
     "metadata": {},
     "output_type": "execute_result"
    }
   ],
   "source": [
    "title_miss"
   ]
  },
  {
   "cell_type": "code",
   "execution_count": 9,
   "metadata": {},
   "outputs": [
    {
     "data": {
      "text/html": [
       "<div>\n",
       "<style scoped>\n",
       "    .dataframe tbody tr th:only-of-type {\n",
       "        vertical-align: middle;\n",
       "    }\n",
       "\n",
       "    .dataframe tbody tr th {\n",
       "        vertical-align: top;\n",
       "    }\n",
       "\n",
       "    .dataframe thead th {\n",
       "        text-align: right;\n",
       "    }\n",
       "</style>\n",
       "<table border=\"1\" class=\"dataframe\">\n",
       "  <thead>\n",
       "    <tr style=\"text-align: right;\">\n",
       "      <th></th>\n",
       "      <th>rating</th>\n",
       "      <th>title</th>\n",
       "      <th>body</th>\n",
       "    </tr>\n",
       "  </thead>\n",
       "  <tbody>\n",
       "    <tr>\n",
       "      <th>30010</th>\n",
       "      <td>5</td>\n",
       "      <td>NaN</td>\n",
       "      <td>NaN</td>\n",
       "    </tr>\n",
       "    <tr>\n",
       "      <th>30949</th>\n",
       "      <td>5</td>\n",
       "      <td>NaN</td>\n",
       "      <td>Almost like pretty new</td>\n",
       "    </tr>\n",
       "    <tr>\n",
       "      <th>32883</th>\n",
       "      <td>5</td>\n",
       "      <td>NaN</td>\n",
       "      <td>Love this phone. Everything's worked great. So...</td>\n",
       "    </tr>\n",
       "    <tr>\n",
       "      <th>35016</th>\n",
       "      <td>5</td>\n",
       "      <td>NaN</td>\n",
       "      <td>Like the phone so far!!! Never had an expensiv...</td>\n",
       "    </tr>\n",
       "    <tr>\n",
       "      <th>42935</th>\n",
       "      <td>4</td>\n",
       "      <td>NaN</td>\n",
       "      <td>Love it</td>\n",
       "    </tr>\n",
       "    <tr>\n",
       "      <th>45899</th>\n",
       "      <td>5</td>\n",
       "      <td>NaN</td>\n",
       "      <td>NaN</td>\n",
       "    </tr>\n",
       "    <tr>\n",
       "      <th>45905</th>\n",
       "      <td>5</td>\n",
       "      <td>NaN</td>\n",
       "      <td>I get that phone I needed ,, thanks .</td>\n",
       "    </tr>\n",
       "    <tr>\n",
       "      <th>46470</th>\n",
       "      <td>5</td>\n",
       "      <td>NaN</td>\n",
       "      <td>NaN</td>\n",
       "    </tr>\n",
       "    <tr>\n",
       "      <th>46476</th>\n",
       "      <td>5</td>\n",
       "      <td>NaN</td>\n",
       "      <td>I get that phone I needed ,, thanks .</td>\n",
       "    </tr>\n",
       "    <tr>\n",
       "      <th>50404</th>\n",
       "      <td>5</td>\n",
       "      <td>NaN</td>\n",
       "      <td>Great phone...A++</td>\n",
       "    </tr>\n",
       "    <tr>\n",
       "      <th>58439</th>\n",
       "      <td>5</td>\n",
       "      <td>NaN</td>\n",
       "      <td>It was s good purchase</td>\n",
       "    </tr>\n",
       "    <tr>\n",
       "      <th>61074</th>\n",
       "      <td>5</td>\n",
       "      <td>NaN</td>\n",
       "      <td>NaN</td>\n",
       "    </tr>\n",
       "    <tr>\n",
       "      <th>61329</th>\n",
       "      <td>5</td>\n",
       "      <td>NaN</td>\n",
       "      <td>It was okay no dislikes yet</td>\n",
       "    </tr>\n",
       "    <tr>\n",
       "      <th>64371</th>\n",
       "      <td>5</td>\n",
       "      <td>NaN</td>\n",
       "      <td>NaN</td>\n",
       "    </tr>\n",
       "  </tbody>\n",
       "</table>\n",
       "</div>"
      ],
      "text/plain": [
       "       rating title                                               body\n",
       "30010       5   NaN                                                NaN\n",
       "30949       5   NaN                             Almost like pretty new\n",
       "32883       5   NaN  Love this phone. Everything's worked great. So...\n",
       "35016       5   NaN  Like the phone so far!!! Never had an expensiv...\n",
       "42935       4   NaN                                            Love it\n",
       "45899       5   NaN                                                NaN\n",
       "45905       5   NaN              I get that phone I needed ,, thanks .\n",
       "46470       5   NaN                                                NaN\n",
       "46476       5   NaN              I get that phone I needed ,, thanks .\n",
       "50404       5   NaN                                  Great phone...A++\n",
       "58439       5   NaN                             It was s good purchase\n",
       "61074       5   NaN                                                NaN\n",
       "61329       5   NaN                        It was okay no dislikes yet\n",
       "64371       5   NaN                                                NaN"
      ]
     },
     "execution_count": 9,
     "metadata": {},
     "output_type": "execute_result"
    }
   ],
   "source": [
    "title_miss[['rating', 'title', 'body']]"
   ]
  },
  {
   "cell_type": "markdown",
   "metadata": {},
   "source": [
    "- If we closely look, we can find that all the **missing titles** are associated with very high rating in the *rating* column.\n",
    "- The *body* column for each of the **missing titles** also suggest that the customers are satisfied with the purchase."
   ]
  },
  {
   "cell_type": "markdown",
   "metadata": {},
   "source": [
    "> So it is safe to say that missing titles can be associated with high rating.<br>\n",
    "> However, we cannot use missing titles to train our model so we have to drop the missing titles."
   ]
  },
  {
   "cell_type": "code",
   "execution_count": 10,
   "metadata": {},
   "outputs": [],
   "source": [
    "dataset = df[~df.title.isnull()]"
   ]
  },
  {
   "cell_type": "code",
   "execution_count": 11,
   "metadata": {},
   "outputs": [],
   "source": [
    "dataset.reset_index(inplace = True)"
   ]
  },
  {
   "cell_type": "code",
   "execution_count": 12,
   "metadata": {},
   "outputs": [
    {
     "data": {
      "text/plain": [
       "index               0\n",
       "asin                0\n",
       "name                2\n",
       "rating              0\n",
       "date                0\n",
       "verified            0\n",
       "title               0\n",
       "body               16\n",
       "helpfulVotes    40758\n",
       "dtype: int64"
      ]
     },
     "execution_count": 12,
     "metadata": {},
     "output_type": "execute_result"
    }
   ],
   "source": [
    "dataset.isnull().sum()"
   ]
  },
  {
   "cell_type": "markdown",
   "metadata": {},
   "source": [
    "Now we can see that the dataset does not contain any missing **title** values."
   ]
  },
  {
   "cell_type": "markdown",
   "metadata": {},
   "source": [
    "- Now we can choose the *Independent* and *Dependent* variables.\n",
    "- We can use the *title* column as our **Reviews**(*independent variable*) and <br> *rating* columns as our **Rating**(*dependent variables*)"
   ]
  },
  {
   "cell_type": "code",
   "execution_count": 13,
   "metadata": {},
   "outputs": [],
   "source": [
    "reviews = dataset.title\n",
    "ratings = dataset.rating"
   ]
  },
  {
   "cell_type": "markdown",
   "metadata": {},
   "source": [
    "- If the rating is $\\gt=3$ then it is a positive rating, else it is a negative rating."
   ]
  },
  {
   "cell_type": "code",
   "execution_count": 14,
   "metadata": {},
   "outputs": [],
   "source": [
    "ratings = np.where(ratings >= 3, 1, 0)"
   ]
  },
  {
   "cell_type": "code",
   "execution_count": 15,
   "metadata": {},
   "outputs": [
    {
     "data": {
      "text/plain": [
       "(67972, 9)"
      ]
     },
     "execution_count": 15,
     "metadata": {},
     "output_type": "execute_result"
    }
   ],
   "source": [
    "dataset.shape"
   ]
  },
  {
   "cell_type": "code",
   "execution_count": 16,
   "metadata": {},
   "outputs": [
    {
     "data": {
      "text/plain": [
       "0                     Def not best, but not worst\n",
       "1                     Text Messaging Doesn't Work\n",
       "2                                 Love This Phone\n",
       "3                         Love the Phone, BUT...!\n",
       "4    Great phone service and options, lousy case!\n",
       "Name: title, dtype: object"
      ]
     },
     "execution_count": 16,
     "metadata": {},
     "output_type": "execute_result"
    }
   ],
   "source": [
    "reviews.head()"
   ]
  },
  {
   "cell_type": "markdown",
   "metadata": {},
   "source": [
    " ## Text Preprocessing"
   ]
  },
  {
   "cell_type": "markdown",
   "metadata": {},
   "source": [
    "### Import required libraries"
   ]
  },
  {
   "cell_type": "code",
   "execution_count": 17,
   "metadata": {},
   "outputs": [],
   "source": [
    "import nltk #Natural Language Toolkit library\n",
    "from nltk.corpus import stopwords #Library to remove stopwords\n",
    "from nltk.stem.porter import PorterStemmer #Library to stem words\n",
    "import re "
   ]
  },
  {
   "cell_type": "code",
   "execution_count": 18,
   "metadata": {},
   "outputs": [
    {
     "name": "stderr",
     "output_type": "stream",
     "text": [
      "[nltk_data] Downloading package stopwords to C:\\Users\\Aditya\n",
      "[nltk_data]     Dash\\AppData\\Roaming\\nltk_data...\n",
      "[nltk_data]   Package stopwords is already up-to-date!\n"
     ]
    },
    {
     "data": {
      "text/plain": [
       "True"
      ]
     },
     "execution_count": 18,
     "metadata": {},
     "output_type": "execute_result"
    }
   ],
   "source": [
    "nltk.download('stopwords')"
   ]
  },
  {
   "cell_type": "code",
   "execution_count": 19,
   "metadata": {},
   "outputs": [],
   "source": [
    "ps = PorterStemmer()"
   ]
  },
  {
   "cell_type": "code",
   "execution_count": 20,
   "metadata": {},
   "outputs": [],
   "source": [
    "m = len(reviews)"
   ]
  },
  {
   "cell_type": "code",
   "execution_count": 21,
   "metadata": {},
   "outputs": [],
   "source": [
    "data = []\n",
    "for i in range(m):\n",
    "    review = reviews[i]\n",
    "    review = re.sub('[^a-zA-Z]', ' ', review)\n",
    "    review = review.lower()\n",
    "    review = review.split()\n",
    "    review = [ps.stem(word) for word in review if word not in set(stopwords.words('english'))]\n",
    "    review = ' '.join(review)\n",
    "    data.append(review)"
   ]
  },
  {
   "cell_type": "markdown",
   "metadata": {},
   "source": [
    "### Creating bag of words model"
   ]
  },
  {
   "cell_type": "code",
   "execution_count": 22,
   "metadata": {},
   "outputs": [],
   "source": [
    "from sklearn.feature_extraction.text import CountVectorizer"
   ]
  },
  {
   "cell_type": "code",
   "execution_count": 23,
   "metadata": {},
   "outputs": [],
   "source": [
    "cv = CountVectorizer(max_features = 100)"
   ]
  },
  {
   "cell_type": "code",
   "execution_count": 24,
   "metadata": {},
   "outputs": [],
   "source": [
    "X = cv.fit_transform(data).toarray()"
   ]
  },
  {
   "cell_type": "markdown",
   "metadata": {},
   "source": [
    "## Creating train and test set"
   ]
  },
  {
   "cell_type": "code",
   "execution_count": 25,
   "metadata": {},
   "outputs": [],
   "source": [
    "from sklearn.model_selection import train_test_split"
   ]
  },
  {
   "cell_type": "code",
   "execution_count": 26,
   "metadata": {},
   "outputs": [],
   "source": [
    "X_train, X_test, y_train, y_test = train_test_split(X, ratings.ravel(), test_size = 0.25, random_state = 42)"
   ]
  },
  {
   "cell_type": "markdown",
   "metadata": {},
   "source": [
    "# Model Building"
   ]
  },
  {
   "cell_type": "markdown",
   "metadata": {},
   "source": [
    "## Libraries to build model"
   ]
  },
  {
   "cell_type": "code",
   "execution_count": 27,
   "metadata": {},
   "outputs": [],
   "source": [
    "import tensorflow.keras as keras"
   ]
  },
  {
   "cell_type": "code",
   "execution_count": 38,
   "metadata": {},
   "outputs": [],
   "source": [
    "model = keras.Sequential() #Model Instantiation"
   ]
  },
  {
   "cell_type": "code",
   "execution_count": 39,
   "metadata": {},
   "outputs": [],
   "source": [
    "model.add(keras.layers.Input(shape = (100,))) #Input Layer"
   ]
  },
  {
   "cell_type": "code",
   "execution_count": 40,
   "metadata": {},
   "outputs": [],
   "source": [
    "model.add(keras.layers.Dense(units = 200, activation = 'relu')) #Hidden Layer\n",
    "model.add(keras.layers.Dense(units = 100, activation = 'relu'))"
   ]
  },
  {
   "cell_type": "code",
   "execution_count": 41,
   "metadata": {},
   "outputs": [],
   "source": [
    "model.add(keras.layers.Dense(units = 1, activation = 'sigmoid')) #Output Layer"
   ]
  },
  {
   "cell_type": "code",
   "execution_count": 42,
   "metadata": {},
   "outputs": [],
   "source": [
    "model.compile(optimizer = 'adam', loss = 'binary_crossentropy', metrics = ['accuracy'])"
   ]
  },
  {
   "cell_type": "code",
   "execution_count": 43,
   "metadata": {},
   "outputs": [],
   "source": [
    "model_checkpoint = keras.callbacks.ModelCheckpoint('sentiment.h5', save_best_only = True)"
   ]
  },
  {
   "cell_type": "code",
   "execution_count": 44,
   "metadata": {},
   "outputs": [
    {
     "name": "stdout",
     "output_type": "stream",
     "text": [
      "Train on 40783 samples, validate on 10196 samples\n",
      "Epoch 1/50\n",
      "40783/40783 [==============================] - 4s 86us/sample - loss: 0.3747 - accuracy: 0.8180 - val_loss: 0.3623 - val_accuracy: 0.8269\n",
      "Epoch 2/50\n",
      "40783/40783 [==============================] - 3s 76us/sample - loss: 0.3524 - accuracy: 0.8301 - val_loss: 0.3579 - val_accuracy: 0.8291\n",
      "Epoch 3/50\n",
      "40783/40783 [==============================] - 3s 80us/sample - loss: 0.3463 - accuracy: 0.8324 - val_loss: 0.3570 - val_accuracy: 0.8289\n",
      "Epoch 4/50\n",
      "40783/40783 [==============================] - 3s 84us/sample - loss: 0.3420 - accuracy: 0.8337 - val_loss: 0.3575 - val_accuracy: 0.8291\n",
      "Epoch 5/50\n",
      "40783/40783 [==============================] - 4s 92us/sample - loss: 0.3373 - accuracy: 0.8372 - val_loss: 0.3572 - val_accuracy: 0.8270\n",
      "Epoch 6/50\n",
      "40783/40783 [==============================] - 3s 78us/sample - loss: 0.3328 - accuracy: 0.8386 - val_loss: 0.3587 - val_accuracy: 0.8272\n",
      "Epoch 7/50\n",
      "40783/40783 [==============================] - 4s 87us/sample - loss: 0.3288 - accuracy: 0.8413 - val_loss: 0.3601 - val_accuracy: 0.8291\n",
      "Epoch 8/50\n",
      "40783/40783 [==============================] - 3s 77us/sample - loss: 0.3240 - accuracy: 0.8422 - val_loss: 0.3666 - val_accuracy: 0.8265\n",
      "Epoch 9/50\n",
      "40783/40783 [==============================] - 3s 75us/sample - loss: 0.3210 - accuracy: 0.8445 - val_loss: 0.3719 - val_accuracy: 0.8255\n",
      "Epoch 10/50\n",
      "40783/40783 [==============================] - 3s 74us/sample - loss: 0.3181 - accuracy: 0.8460 - val_loss: 0.3740 - val_accuracy: 0.8250\n",
      "Epoch 11/50\n",
      "40783/40783 [==============================] - 3s 79us/sample - loss: 0.3151 - accuracy: 0.8478 - val_loss: 0.3813 - val_accuracy: 0.8257\n",
      "Epoch 12/50\n",
      "40783/40783 [==============================] - 3s 73us/sample - loss: 0.3127 - accuracy: 0.8493 - val_loss: 0.3778 - val_accuracy: 0.8269\n",
      "Epoch 13/50\n",
      "40783/40783 [==============================] - 3s 72us/sample - loss: 0.3099 - accuracy: 0.8502 - val_loss: 0.3867 - val_accuracy: 0.8279\n",
      "Epoch 14/50\n",
      "40783/40783 [==============================] - 3s 78us/sample - loss: 0.3079 - accuracy: 0.8505 - val_loss: 0.3923 - val_accuracy: 0.8258\n",
      "Epoch 15/50\n",
      "40783/40783 [==============================] - 3s 80us/sample - loss: 0.3060 - accuracy: 0.8515 - val_loss: 0.3978 - val_accuracy: 0.8288\n",
      "Epoch 16/50\n",
      "40783/40783 [==============================] - 3s 78us/sample - loss: 0.3043 - accuracy: 0.8521 - val_loss: 0.4076 - val_accuracy: 0.8232\n",
      "Epoch 17/50\n",
      "40783/40783 [==============================] - 3s 77us/sample - loss: 0.3030 - accuracy: 0.8524 - val_loss: 0.4102 - val_accuracy: 0.8264\n",
      "Epoch 18/50\n",
      "40783/40783 [==============================] - 3s 82us/sample - loss: 0.3007 - accuracy: 0.8534 - val_loss: 0.4243 - val_accuracy: 0.8237\n",
      "Epoch 19/50\n",
      "40783/40783 [==============================] - 4s 91us/sample - loss: 0.3001 - accuracy: 0.8533 - val_loss: 0.4182 - val_accuracy: 0.8230\n",
      "Epoch 20/50\n",
      "40783/40783 [==============================] - 3s 80us/sample - loss: 0.2982 - accuracy: 0.8548 - val_loss: 0.4334 - val_accuracy: 0.8243\n",
      "Epoch 21/50\n",
      "40783/40783 [==============================] - 3s 82us/sample - loss: 0.2976 - accuracy: 0.8543 - val_loss: 0.4244 - val_accuracy: 0.8257\n",
      "Epoch 22/50\n",
      "40783/40783 [==============================] - 3s 77us/sample - loss: 0.2964 - accuracy: 0.8556 - val_loss: 0.4381 - val_accuracy: 0.8241\n",
      "Epoch 23/50\n",
      "40783/40783 [==============================] - 3s 73us/sample - loss: 0.2949 - accuracy: 0.8556 - val_loss: 0.4450 - val_accuracy: 0.8241\n",
      "Epoch 24/50\n",
      "40783/40783 [==============================] - 3s 80us/sample - loss: 0.2948 - accuracy: 0.8555 - val_loss: 0.4528 - val_accuracy: 0.8241\n",
      "Epoch 25/50\n",
      "40783/40783 [==============================] - 3s 75us/sample - loss: 0.2938 - accuracy: 0.8561 - val_loss: 0.4568 - val_accuracy: 0.8249\n",
      "Epoch 26/50\n",
      "40783/40783 [==============================] - 3s 74us/sample - loss: 0.2932 - accuracy: 0.8558 - val_loss: 0.4647 - val_accuracy: 0.8234\n",
      "Epoch 27/50\n",
      "40783/40783 [==============================] - 3s 76us/sample - loss: 0.2922 - accuracy: 0.8563 - val_loss: 0.4639 - val_accuracy: 0.8248\n",
      "Epoch 28/50\n",
      "40783/40783 [==============================] - 3s 75us/sample - loss: 0.2914 - accuracy: 0.8567 - val_loss: 0.4661 - val_accuracy: 0.8253\n",
      "Epoch 29/50\n",
      "40783/40783 [==============================] - 3s 75us/sample - loss: 0.2910 - accuracy: 0.8567 - val_loss: 0.4787 - val_accuracy: 0.8236\n",
      "Epoch 30/50\n",
      "40783/40783 [==============================] - 3s 76us/sample - loss: 0.2906 - accuracy: 0.8572 - val_loss: 0.4865 - val_accuracy: 0.8239\n",
      "Epoch 31/50\n",
      "40783/40783 [==============================] - 3s 75us/sample - loss: 0.2901 - accuracy: 0.8573 - val_loss: 0.4873 - val_accuracy: 0.8244\n",
      "Epoch 32/50\n",
      "40783/40783 [==============================] - 3s 76us/sample - loss: 0.2903 - accuracy: 0.8570 - val_loss: 0.4953 - val_accuracy: 0.8212\n",
      "Epoch 33/50\n",
      "40783/40783 [==============================] - 3s 75us/sample - loss: 0.2894 - accuracy: 0.8571 - val_loss: 0.4963 - val_accuracy: 0.8246\n",
      "Epoch 34/50\n",
      "40783/40783 [==============================] - 3s 75us/sample - loss: 0.2895 - accuracy: 0.8571 - val_loss: 0.4870 - val_accuracy: 0.8242\n",
      "Epoch 35/50\n",
      "40783/40783 [==============================] - 3s 75us/sample - loss: 0.2885 - accuracy: 0.8571 - val_loss: 0.4964 - val_accuracy: 0.8241\n",
      "Epoch 36/50\n",
      "40783/40783 [==============================] - 3s 75us/sample - loss: 0.2882 - accuracy: 0.8570 - val_loss: 0.5075 - val_accuracy: 0.8250\n",
      "Epoch 37/50\n",
      "40783/40783 [==============================] - 3s 75us/sample - loss: 0.2881 - accuracy: 0.8570 - val_loss: 0.5222 - val_accuracy: 0.8248\n",
      "Epoch 38/50\n",
      "40783/40783 [==============================] - 3s 75us/sample - loss: 0.2880 - accuracy: 0.8573 - val_loss: 0.5200 - val_accuracy: 0.8246\n",
      "Epoch 39/50\n",
      "40783/40783 [==============================] - 3s 75us/sample - loss: 0.2875 - accuracy: 0.8576 - val_loss: 0.5270 - val_accuracy: 0.8233\n",
      "Epoch 40/50\n",
      "40783/40783 [==============================] - 3s 75us/sample - loss: 0.2874 - accuracy: 0.8571 - val_loss: 0.5132 - val_accuracy: 0.8244\n",
      "Epoch 41/50\n",
      "40783/40783 [==============================] - 3s 75us/sample - loss: 0.2870 - accuracy: 0.8582 - val_loss: 0.5306 - val_accuracy: 0.8250\n",
      "Epoch 42/50\n",
      "40783/40783 [==============================] - 3s 76us/sample - loss: 0.2868 - accuracy: 0.8583 - val_loss: 0.5392 - val_accuracy: 0.8257\n",
      "Epoch 43/50\n",
      "40783/40783 [==============================] - 3s 75us/sample - loss: 0.2864 - accuracy: 0.8577 - val_loss: 0.5441 - val_accuracy: 0.8261\n",
      "Epoch 44/50\n",
      "40783/40783 [==============================] - 3s 75us/sample - loss: 0.2870 - accuracy: 0.8574 - val_loss: 0.5354 - val_accuracy: 0.8240\n",
      "Epoch 45/50\n",
      "40783/40783 [==============================] - 3s 75us/sample - loss: 0.2867 - accuracy: 0.8581 - val_loss: 0.5693 - val_accuracy: 0.8246\n",
      "Epoch 46/50\n",
      "40783/40783 [==============================] - 3s 75us/sample - loss: 0.2856 - accuracy: 0.8580 - val_loss: 0.5475 - val_accuracy: 0.8236\n",
      "Epoch 47/50\n",
      "40783/40783 [==============================] - 3s 75us/sample - loss: 0.2863 - accuracy: 0.8577 - val_loss: 0.5682 - val_accuracy: 0.8252\n",
      "Epoch 48/50\n",
      "40783/40783 [==============================] - 3s 76us/sample - loss: 0.2855 - accuracy: 0.8577 - val_loss: 0.5676 - val_accuracy: 0.8251\n",
      "Epoch 49/50\n",
      "40783/40783 [==============================] - 3s 75us/sample - loss: 0.2852 - accuracy: 0.8582 - val_loss: 0.5512 - val_accuracy: 0.8251\n",
      "Epoch 50/50\n",
      "40783/40783 [==============================] - 3s 75us/sample - loss: 0.2851 - accuracy: 0.8581 - val_loss: 0.5603 - val_accuracy: 0.8232\n"
     ]
    }
   ],
   "source": [
    "history = model.fit(X_train, y_train, batch_size = 32, epochs = 50, validation_split = 0.2, callbacks = [model_checkpoint])"
   ]
  },
  {
   "cell_type": "code",
   "execution_count": 45,
   "metadata": {},
   "outputs": [
    {
     "name": "stdout",
     "output_type": "stream",
     "text": [
      "16993/16993 [==============================] - 1s 38us/sample - loss: 0.5204 - accuracy: 0.8273\n"
     ]
    },
    {
     "data": {
      "text/plain": [
       "[0.5203891938879125, 0.82728183]"
      ]
     },
     "execution_count": 45,
     "metadata": {},
     "output_type": "execute_result"
    }
   ],
   "source": [
    "model.evaluate(X_test, y_test)"
   ]
  },
  {
   "cell_type": "code",
   "execution_count": 46,
   "metadata": {},
   "outputs": [],
   "source": [
    "best = keras.models.load_model('sentiment.h5')"
   ]
  },
  {
   "cell_type": "code",
   "execution_count": 47,
   "metadata": {},
   "outputs": [
    {
     "name": "stdout",
     "output_type": "stream",
     "text": [
      "16993/16993 [==============================] - 1s 41us/sample - loss: 0.3512 - accuracy: 0.8322\n"
     ]
    },
    {
     "data": {
      "text/plain": [
       "[0.3511639524397062, 0.8321662]"
      ]
     },
     "execution_count": 47,
     "metadata": {},
     "output_type": "execute_result"
    }
   ],
   "source": [
    "best.evaluate(X_test, y_test)"
   ]
  },
  {
   "cell_type": "code",
   "execution_count": null,
   "metadata": {},
   "outputs": [],
   "source": []
  }
 ],
 "metadata": {
  "kernelspec": {
   "display_name": "Python 3",
   "language": "python",
   "name": "python3"
  },
  "language_info": {
   "codemirror_mode": {
    "name": "ipython",
    "version": 3
   },
   "file_extension": ".py",
   "mimetype": "text/x-python",
   "name": "python",
   "nbconvert_exporter": "python",
   "pygments_lexer": "ipython3",
   "version": "3.7.4"
  }
 },
 "nbformat": 4,
 "nbformat_minor": 2
}
