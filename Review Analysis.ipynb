{
 "cells": [
  {
   "cell_type": "markdown",
   "metadata": {},
   "source": [
    "# Analysis of Cell Phone Reviews"
   ]
  },
  {
   "cell_type": "markdown",
   "metadata": {},
   "source": [
    "***************************************************"
   ]
  },
  {
   "cell_type": "markdown",
   "metadata": {},
   "source": [
    "## Importing required libraries"
   ]
  },
  {
   "cell_type": "code",
   "execution_count": 1,
   "metadata": {},
   "outputs": [],
   "source": [
    "import numpy as np\n",
    "import pandas as pd\n",
    "import matplotlib.pyplot as plt"
   ]
  },
  {
   "cell_type": "markdown",
   "metadata": {},
   "source": [
    "## Importing and cleaning the dataset"
   ]
  },
  {
   "cell_type": "code",
   "execution_count": 2,
   "metadata": {},
   "outputs": [],
   "source": [
    "df = pd.read_csv('data/20191226-reviews.csv')"
   ]
  },
  {
   "cell_type": "code",
   "execution_count": 3,
   "metadata": {},
   "outputs": [
    {
     "data": {
      "text/html": [
       "<div>\n",
       "<style scoped>\n",
       "    .dataframe tbody tr th:only-of-type {\n",
       "        vertical-align: middle;\n",
       "    }\n",
       "\n",
       "    .dataframe tbody tr th {\n",
       "        vertical-align: top;\n",
       "    }\n",
       "\n",
       "    .dataframe thead th {\n",
       "        text-align: right;\n",
       "    }\n",
       "</style>\n",
       "<table border=\"1\" class=\"dataframe\">\n",
       "  <thead>\n",
       "    <tr style=\"text-align: right;\">\n",
       "      <th></th>\n",
       "      <th>asin</th>\n",
       "      <th>name</th>\n",
       "      <th>rating</th>\n",
       "      <th>date</th>\n",
       "      <th>verified</th>\n",
       "      <th>title</th>\n",
       "      <th>body</th>\n",
       "      <th>helpfulVotes</th>\n",
       "    </tr>\n",
       "  </thead>\n",
       "  <tbody>\n",
       "    <tr>\n",
       "      <th>0</th>\n",
       "      <td>B0000SX2UC</td>\n",
       "      <td>Janet</td>\n",
       "      <td>3</td>\n",
       "      <td>October 11, 2005</td>\n",
       "      <td>False</td>\n",
       "      <td>Def not best, but not worst</td>\n",
       "      <td>I had the Samsung A600 for awhile which is abs...</td>\n",
       "      <td>1.0</td>\n",
       "    </tr>\n",
       "    <tr>\n",
       "      <th>1</th>\n",
       "      <td>B0000SX2UC</td>\n",
       "      <td>Luke Wyatt</td>\n",
       "      <td>1</td>\n",
       "      <td>January 7, 2004</td>\n",
       "      <td>False</td>\n",
       "      <td>Text Messaging Doesn't Work</td>\n",
       "      <td>Due to a software issue between Nokia and Spri...</td>\n",
       "      <td>17.0</td>\n",
       "    </tr>\n",
       "    <tr>\n",
       "      <th>2</th>\n",
       "      <td>B0000SX2UC</td>\n",
       "      <td>Brooke</td>\n",
       "      <td>5</td>\n",
       "      <td>December 30, 2003</td>\n",
       "      <td>False</td>\n",
       "      <td>Love This Phone</td>\n",
       "      <td>This is a great, reliable phone. I also purcha...</td>\n",
       "      <td>5.0</td>\n",
       "    </tr>\n",
       "    <tr>\n",
       "      <th>3</th>\n",
       "      <td>B0000SX2UC</td>\n",
       "      <td>amy m. teague</td>\n",
       "      <td>3</td>\n",
       "      <td>March 18, 2004</td>\n",
       "      <td>False</td>\n",
       "      <td>Love the Phone, BUT...!</td>\n",
       "      <td>I love the phone and all, because I really did...</td>\n",
       "      <td>1.0</td>\n",
       "    </tr>\n",
       "    <tr>\n",
       "      <th>4</th>\n",
       "      <td>B0000SX2UC</td>\n",
       "      <td>tristazbimmer</td>\n",
       "      <td>4</td>\n",
       "      <td>August 28, 2005</td>\n",
       "      <td>False</td>\n",
       "      <td>Great phone service and options, lousy case!</td>\n",
       "      <td>The phone has been great for every purpose it ...</td>\n",
       "      <td>1.0</td>\n",
       "    </tr>\n",
       "  </tbody>\n",
       "</table>\n",
       "</div>"
      ],
      "text/plain": [
       "         asin           name  rating               date  verified  \\\n",
       "0  B0000SX2UC          Janet       3   October 11, 2005     False   \n",
       "1  B0000SX2UC     Luke Wyatt       1    January 7, 2004     False   \n",
       "2  B0000SX2UC         Brooke       5  December 30, 2003     False   \n",
       "3  B0000SX2UC  amy m. teague       3     March 18, 2004     False   \n",
       "4  B0000SX2UC  tristazbimmer       4    August 28, 2005     False   \n",
       "\n",
       "                                          title  \\\n",
       "0                   Def not best, but not worst   \n",
       "1                   Text Messaging Doesn't Work   \n",
       "2                               Love This Phone   \n",
       "3                       Love the Phone, BUT...!   \n",
       "4  Great phone service and options, lousy case!   \n",
       "\n",
       "                                                body  helpfulVotes  \n",
       "0  I had the Samsung A600 for awhile which is abs...           1.0  \n",
       "1  Due to a software issue between Nokia and Spri...          17.0  \n",
       "2  This is a great, reliable phone. I also purcha...           5.0  \n",
       "3  I love the phone and all, because I really did...           1.0  \n",
       "4  The phone has been great for every purpose it ...           1.0  "
      ]
     },
     "execution_count": 3,
     "metadata": {},
     "output_type": "execute_result"
    }
   ],
   "source": [
    "df.head()"
   ]
  },
  {
   "cell_type": "code",
   "execution_count": 4,
   "metadata": {},
   "outputs": [
    {
     "data": {
      "text/plain": [
       "(67986, 8)"
      ]
     },
     "execution_count": 4,
     "metadata": {},
     "output_type": "execute_result"
    }
   ],
   "source": [
    "df.shape"
   ]
  },
  {
   "cell_type": "code",
   "execution_count": 5,
   "metadata": {},
   "outputs": [
    {
     "name": "stdout",
     "output_type": "stream",
     "text": [
      "<class 'pandas.core.frame.DataFrame'>\n",
      "RangeIndex: 67986 entries, 0 to 67985\n",
      "Data columns (total 8 columns):\n",
      " #   Column        Non-Null Count  Dtype  \n",
      "---  ------        --------------  -----  \n",
      " 0   asin          67986 non-null  object \n",
      " 1   name          67984 non-null  object \n",
      " 2   rating        67986 non-null  int64  \n",
      " 3   date          67986 non-null  object \n",
      " 4   verified      67986 non-null  bool   \n",
      " 5   title         67972 non-null  object \n",
      " 6   body          67965 non-null  object \n",
      " 7   helpfulVotes  27215 non-null  float64\n",
      "dtypes: bool(1), float64(1), int64(1), object(5)\n",
      "memory usage: 3.7+ MB\n"
     ]
    }
   ],
   "source": [
    "df.info()"
   ]
  },
  {
   "cell_type": "code",
   "execution_count": 6,
   "metadata": {},
   "outputs": [
    {
     "data": {
      "text/plain": [
       "asin                0\n",
       "name                2\n",
       "rating              0\n",
       "date                0\n",
       "verified            0\n",
       "title              14\n",
       "body               21\n",
       "helpfulVotes    40771\n",
       "dtype: int64"
      ]
     },
     "execution_count": 6,
     "metadata": {},
     "output_type": "execute_result"
    }
   ],
   "source": [
    "df.isnull().sum()"
   ]
  },
  {
   "cell_type": "markdown",
   "metadata": {},
   "source": [
    "- We have $14$ null values in the rating column of our dataset.\n",
    "- We have to drop the null values."
   ]
  },
  {
   "cell_type": "code",
   "execution_count": 7,
   "metadata": {},
   "outputs": [],
   "source": [
    "title_miss = df[df.title.isnull()]"
   ]
  },
  {
   "cell_type": "code",
   "execution_count": 8,
   "metadata": {},
   "outputs": [
    {
     "data": {
      "text/html": [
       "<div>\n",
       "<style scoped>\n",
       "    .dataframe tbody tr th:only-of-type {\n",
       "        vertical-align: middle;\n",
       "    }\n",
       "\n",
       "    .dataframe tbody tr th {\n",
       "        vertical-align: top;\n",
       "    }\n",
       "\n",
       "    .dataframe thead th {\n",
       "        text-align: right;\n",
       "    }\n",
       "</style>\n",
       "<table border=\"1\" class=\"dataframe\">\n",
       "  <thead>\n",
       "    <tr style=\"text-align: right;\">\n",
       "      <th></th>\n",
       "      <th>asin</th>\n",
       "      <th>name</th>\n",
       "      <th>rating</th>\n",
       "      <th>date</th>\n",
       "      <th>verified</th>\n",
       "      <th>title</th>\n",
       "      <th>body</th>\n",
       "      <th>helpfulVotes</th>\n",
       "    </tr>\n",
       "  </thead>\n",
       "  <tbody>\n",
       "    <tr>\n",
       "      <th>30010</th>\n",
       "      <td>B01NB1KG8U</td>\n",
       "      <td>Sylvester Ofosuhene</td>\n",
       "      <td>5</td>\n",
       "      <td>December 24, 2019</td>\n",
       "      <td>True</td>\n",
       "      <td>NaN</td>\n",
       "      <td>NaN</td>\n",
       "      <td>NaN</td>\n",
       "    </tr>\n",
       "    <tr>\n",
       "      <th>30949</th>\n",
       "      <td>B06XR1K6HR</td>\n",
       "      <td>MOHAMED ALI</td>\n",
       "      <td>5</td>\n",
       "      <td>January 17, 2019</td>\n",
       "      <td>True</td>\n",
       "      <td>NaN</td>\n",
       "      <td>Almost like pretty new</td>\n",
       "      <td>NaN</td>\n",
       "    </tr>\n",
       "    <tr>\n",
       "      <th>32883</th>\n",
       "      <td>B06XSF5C42</td>\n",
       "      <td>Candice</td>\n",
       "      <td>5</td>\n",
       "      <td>June 13, 2019</td>\n",
       "      <td>True</td>\n",
       "      <td>NaN</td>\n",
       "      <td>Love this phone. Everything's worked great. So...</td>\n",
       "      <td>NaN</td>\n",
       "    </tr>\n",
       "    <tr>\n",
       "      <th>35016</th>\n",
       "      <td>B071H9KKKF</td>\n",
       "      <td>Wauany</td>\n",
       "      <td>5</td>\n",
       "      <td>June 17, 2018</td>\n",
       "      <td>True</td>\n",
       "      <td>NaN</td>\n",
       "      <td>Like the phone so far!!! Never had an expensiv...</td>\n",
       "      <td>NaN</td>\n",
       "    </tr>\n",
       "    <tr>\n",
       "      <th>42935</th>\n",
       "      <td>B077T4MVZ6</td>\n",
       "      <td>Evaldina</td>\n",
       "      <td>4</td>\n",
       "      <td>November 14, 2018</td>\n",
       "      <td>True</td>\n",
       "      <td>NaN</td>\n",
       "      <td>Love it</td>\n",
       "      <td>NaN</td>\n",
       "    </tr>\n",
       "    <tr>\n",
       "      <th>45899</th>\n",
       "      <td>B079X7DQ4Q</td>\n",
       "      <td>Roberto</td>\n",
       "      <td>5</td>\n",
       "      <td>November 25, 2019</td>\n",
       "      <td>True</td>\n",
       "      <td>NaN</td>\n",
       "      <td>NaN</td>\n",
       "      <td>NaN</td>\n",
       "    </tr>\n",
       "    <tr>\n",
       "      <th>45905</th>\n",
       "      <td>B079X7DQ4Q</td>\n",
       "      <td>Mahmood al rahawi</td>\n",
       "      <td>5</td>\n",
       "      <td>December 7, 2018</td>\n",
       "      <td>True</td>\n",
       "      <td>NaN</td>\n",
       "      <td>I get that phone I needed ,, thanks .</td>\n",
       "      <td>NaN</td>\n",
       "    </tr>\n",
       "    <tr>\n",
       "      <th>46470</th>\n",
       "      <td>B07BHT4KGM</td>\n",
       "      <td>Roberto</td>\n",
       "      <td>5</td>\n",
       "      <td>November 25, 2019</td>\n",
       "      <td>True</td>\n",
       "      <td>NaN</td>\n",
       "      <td>NaN</td>\n",
       "      <td>NaN</td>\n",
       "    </tr>\n",
       "    <tr>\n",
       "      <th>46476</th>\n",
       "      <td>B07BHT4KGM</td>\n",
       "      <td>Mahmood al rahawi</td>\n",
       "      <td>5</td>\n",
       "      <td>December 7, 2018</td>\n",
       "      <td>True</td>\n",
       "      <td>NaN</td>\n",
       "      <td>I get that phone I needed ,, thanks .</td>\n",
       "      <td>NaN</td>\n",
       "    </tr>\n",
       "    <tr>\n",
       "      <th>50404</th>\n",
       "      <td>B07FZH9BGV</td>\n",
       "      <td>Henry</td>\n",
       "      <td>5</td>\n",
       "      <td>November 1, 2018</td>\n",
       "      <td>True</td>\n",
       "      <td>NaN</td>\n",
       "      <td>Great phone...A++</td>\n",
       "      <td>1.0</td>\n",
       "    </tr>\n",
       "    <tr>\n",
       "      <th>58439</th>\n",
       "      <td>B07NZXXZB2</td>\n",
       "      <td>RRaRay</td>\n",
       "      <td>5</td>\n",
       "      <td>July 3, 2019</td>\n",
       "      <td>True</td>\n",
       "      <td>NaN</td>\n",
       "      <td>It was s good purchase</td>\n",
       "      <td>NaN</td>\n",
       "    </tr>\n",
       "    <tr>\n",
       "      <th>61074</th>\n",
       "      <td>B07Q84DPZH</td>\n",
       "      <td>Lee</td>\n",
       "      <td>5</td>\n",
       "      <td>November 29, 2019</td>\n",
       "      <td>True</td>\n",
       "      <td>NaN</td>\n",
       "      <td>NaN</td>\n",
       "      <td>NaN</td>\n",
       "    </tr>\n",
       "    <tr>\n",
       "      <th>61329</th>\n",
       "      <td>B07Q84DPZH</td>\n",
       "      <td>Janice B.</td>\n",
       "      <td>5</td>\n",
       "      <td>June 29, 2019</td>\n",
       "      <td>True</td>\n",
       "      <td>NaN</td>\n",
       "      <td>It was okay no dislikes yet</td>\n",
       "      <td>NaN</td>\n",
       "    </tr>\n",
       "    <tr>\n",
       "      <th>64371</th>\n",
       "      <td>B07V5KS95Y</td>\n",
       "      <td>Viet Nguyen</td>\n",
       "      <td>5</td>\n",
       "      <td>December 22, 2019</td>\n",
       "      <td>True</td>\n",
       "      <td>NaN</td>\n",
       "      <td>NaN</td>\n",
       "      <td>NaN</td>\n",
       "    </tr>\n",
       "  </tbody>\n",
       "</table>\n",
       "</div>"
      ],
      "text/plain": [
       "             asin                 name  rating               date  verified  \\\n",
       "30010  B01NB1KG8U  Sylvester Ofosuhene       5  December 24, 2019      True   \n",
       "30949  B06XR1K6HR          MOHAMED ALI       5   January 17, 2019      True   \n",
       "32883  B06XSF5C42              Candice       5      June 13, 2019      True   \n",
       "35016  B071H9KKKF               Wauany       5      June 17, 2018      True   \n",
       "42935  B077T4MVZ6             Evaldina       4  November 14, 2018      True   \n",
       "45899  B079X7DQ4Q              Roberto       5  November 25, 2019      True   \n",
       "45905  B079X7DQ4Q    Mahmood al rahawi       5   December 7, 2018      True   \n",
       "46470  B07BHT4KGM              Roberto       5  November 25, 2019      True   \n",
       "46476  B07BHT4KGM    Mahmood al rahawi       5   December 7, 2018      True   \n",
       "50404  B07FZH9BGV                Henry       5   November 1, 2018      True   \n",
       "58439  B07NZXXZB2               RRaRay       5       July 3, 2019      True   \n",
       "61074  B07Q84DPZH                  Lee       5  November 29, 2019      True   \n",
       "61329  B07Q84DPZH            Janice B.       5      June 29, 2019      True   \n",
       "64371  B07V5KS95Y          Viet Nguyen       5  December 22, 2019      True   \n",
       "\n",
       "      title                                               body  helpfulVotes  \n",
       "30010   NaN                                                NaN           NaN  \n",
       "30949   NaN                             Almost like pretty new           NaN  \n",
       "32883   NaN  Love this phone. Everything's worked great. So...           NaN  \n",
       "35016   NaN  Like the phone so far!!! Never had an expensiv...           NaN  \n",
       "42935   NaN                                            Love it           NaN  \n",
       "45899   NaN                                                NaN           NaN  \n",
       "45905   NaN              I get that phone I needed ,, thanks .           NaN  \n",
       "46470   NaN                                                NaN           NaN  \n",
       "46476   NaN              I get that phone I needed ,, thanks .           NaN  \n",
       "50404   NaN                                  Great phone...A++           1.0  \n",
       "58439   NaN                             It was s good purchase           NaN  \n",
       "61074   NaN                                                NaN           NaN  \n",
       "61329   NaN                        It was okay no dislikes yet           NaN  \n",
       "64371   NaN                                                NaN           NaN  "
      ]
     },
     "execution_count": 8,
     "metadata": {},
     "output_type": "execute_result"
    }
   ],
   "source": [
    "title_miss"
   ]
  },
  {
   "cell_type": "code",
   "execution_count": 9,
   "metadata": {},
   "outputs": [
    {
     "data": {
      "text/html": [
       "<div>\n",
       "<style scoped>\n",
       "    .dataframe tbody tr th:only-of-type {\n",
       "        vertical-align: middle;\n",
       "    }\n",
       "\n",
       "    .dataframe tbody tr th {\n",
       "        vertical-align: top;\n",
       "    }\n",
       "\n",
       "    .dataframe thead th {\n",
       "        text-align: right;\n",
       "    }\n",
       "</style>\n",
       "<table border=\"1\" class=\"dataframe\">\n",
       "  <thead>\n",
       "    <tr style=\"text-align: right;\">\n",
       "      <th></th>\n",
       "      <th>rating</th>\n",
       "      <th>title</th>\n",
       "      <th>body</th>\n",
       "    </tr>\n",
       "  </thead>\n",
       "  <tbody>\n",
       "    <tr>\n",
       "      <th>30010</th>\n",
       "      <td>5</td>\n",
       "      <td>NaN</td>\n",
       "      <td>NaN</td>\n",
       "    </tr>\n",
       "    <tr>\n",
       "      <th>30949</th>\n",
       "      <td>5</td>\n",
       "      <td>NaN</td>\n",
       "      <td>Almost like pretty new</td>\n",
       "    </tr>\n",
       "    <tr>\n",
       "      <th>32883</th>\n",
       "      <td>5</td>\n",
       "      <td>NaN</td>\n",
       "      <td>Love this phone. Everything's worked great. So...</td>\n",
       "    </tr>\n",
       "    <tr>\n",
       "      <th>35016</th>\n",
       "      <td>5</td>\n",
       "      <td>NaN</td>\n",
       "      <td>Like the phone so far!!! Never had an expensiv...</td>\n",
       "    </tr>\n",
       "    <tr>\n",
       "      <th>42935</th>\n",
       "      <td>4</td>\n",
       "      <td>NaN</td>\n",
       "      <td>Love it</td>\n",
       "    </tr>\n",
       "    <tr>\n",
       "      <th>45899</th>\n",
       "      <td>5</td>\n",
       "      <td>NaN</td>\n",
       "      <td>NaN</td>\n",
       "    </tr>\n",
       "    <tr>\n",
       "      <th>45905</th>\n",
       "      <td>5</td>\n",
       "      <td>NaN</td>\n",
       "      <td>I get that phone I needed ,, thanks .</td>\n",
       "    </tr>\n",
       "    <tr>\n",
       "      <th>46470</th>\n",
       "      <td>5</td>\n",
       "      <td>NaN</td>\n",
       "      <td>NaN</td>\n",
       "    </tr>\n",
       "    <tr>\n",
       "      <th>46476</th>\n",
       "      <td>5</td>\n",
       "      <td>NaN</td>\n",
       "      <td>I get that phone I needed ,, thanks .</td>\n",
       "    </tr>\n",
       "    <tr>\n",
       "      <th>50404</th>\n",
       "      <td>5</td>\n",
       "      <td>NaN</td>\n",
       "      <td>Great phone...A++</td>\n",
       "    </tr>\n",
       "    <tr>\n",
       "      <th>58439</th>\n",
       "      <td>5</td>\n",
       "      <td>NaN</td>\n",
       "      <td>It was s good purchase</td>\n",
       "    </tr>\n",
       "    <tr>\n",
       "      <th>61074</th>\n",
       "      <td>5</td>\n",
       "      <td>NaN</td>\n",
       "      <td>NaN</td>\n",
       "    </tr>\n",
       "    <tr>\n",
       "      <th>61329</th>\n",
       "      <td>5</td>\n",
       "      <td>NaN</td>\n",
       "      <td>It was okay no dislikes yet</td>\n",
       "    </tr>\n",
       "    <tr>\n",
       "      <th>64371</th>\n",
       "      <td>5</td>\n",
       "      <td>NaN</td>\n",
       "      <td>NaN</td>\n",
       "    </tr>\n",
       "  </tbody>\n",
       "</table>\n",
       "</div>"
      ],
      "text/plain": [
       "       rating title                                               body\n",
       "30010       5   NaN                                                NaN\n",
       "30949       5   NaN                             Almost like pretty new\n",
       "32883       5   NaN  Love this phone. Everything's worked great. So...\n",
       "35016       5   NaN  Like the phone so far!!! Never had an expensiv...\n",
       "42935       4   NaN                                            Love it\n",
       "45899       5   NaN                                                NaN\n",
       "45905       5   NaN              I get that phone I needed ,, thanks .\n",
       "46470       5   NaN                                                NaN\n",
       "46476       5   NaN              I get that phone I needed ,, thanks .\n",
       "50404       5   NaN                                  Great phone...A++\n",
       "58439       5   NaN                             It was s good purchase\n",
       "61074       5   NaN                                                NaN\n",
       "61329       5   NaN                        It was okay no dislikes yet\n",
       "64371       5   NaN                                                NaN"
      ]
     },
     "execution_count": 9,
     "metadata": {},
     "output_type": "execute_result"
    }
   ],
   "source": [
    "title_miss[['rating', 'title', 'body']]"
   ]
  },
  {
   "cell_type": "markdown",
   "metadata": {},
   "source": [
    "- If we closely look, we can find that all the **missing titles** are associated with very high rating in the *rating* column.\n",
    "- The *body* column for each of the **missing titles** also suggest that the customers are satisfied with the purchase."
   ]
  },
  {
   "cell_type": "markdown",
   "metadata": {},
   "source": [
    "> So it is safe to say that missing titles can be associated with high rating.<br>\n",
    "> However, we cannot use missing titles to train our model so we have to drop the missing titles."
   ]
  },
  {
   "cell_type": "code",
   "execution_count": 10,
   "metadata": {},
   "outputs": [],
   "source": [
    "dataset = df[~df.title.isnull()]"
   ]
  },
  {
   "cell_type": "code",
   "execution_count": 11,
   "metadata": {},
   "outputs": [],
   "source": [
    "dataset.reset_index(inplace = True)"
   ]
  },
  {
   "cell_type": "code",
   "execution_count": 12,
   "metadata": {},
   "outputs": [
    {
     "data": {
      "text/plain": [
       "index               0\n",
       "asin                0\n",
       "name                2\n",
       "rating              0\n",
       "date                0\n",
       "verified            0\n",
       "title               0\n",
       "body               16\n",
       "helpfulVotes    40758\n",
       "dtype: int64"
      ]
     },
     "execution_count": 12,
     "metadata": {},
     "output_type": "execute_result"
    }
   ],
   "source": [
    "dataset.isnull().sum()"
   ]
  },
  {
   "cell_type": "markdown",
   "metadata": {},
   "source": [
    "Now we can see that the dataset does not contain any missing **title** values."
   ]
  },
  {
   "cell_type": "markdown",
   "metadata": {},
   "source": [
    "- Now we can choose the *Independent* and *Dependent* variables.\n",
    "- We can use the *title* column as our **Reviews**(*independent variable*) and <br> *rating* columns as our **Rating**(*dependent variables*)"
   ]
  },
  {
   "cell_type": "code",
   "execution_count": 13,
   "metadata": {},
   "outputs": [],
   "source": [
    "reviews = dataset.title\n",
    "ratings = dataset.rating"
   ]
  },
  {
   "cell_type": "markdown",
   "metadata": {},
   "source": [
    "- If the rating is $\\gt=3$ then it is a positive rating, else it is a negative rating."
   ]
  },
  {
   "cell_type": "code",
   "execution_count": 14,
   "metadata": {},
   "outputs": [],
   "source": [
    "ratings = np.where(ratings >= 3, 1, 0)"
   ]
  },
  {
   "cell_type": "code",
   "execution_count": 15,
   "metadata": {},
   "outputs": [
    {
     "data": {
      "text/plain": [
       "(67972, 9)"
      ]
     },
     "execution_count": 15,
     "metadata": {},
     "output_type": "execute_result"
    }
   ],
   "source": [
    "dataset.shape"
   ]
  },
  {
   "cell_type": "code",
   "execution_count": 16,
   "metadata": {},
   "outputs": [
    {
     "data": {
      "text/plain": [
       "0                     Def not best, but not worst\n",
       "1                     Text Messaging Doesn't Work\n",
       "2                                 Love This Phone\n",
       "3                         Love the Phone, BUT...!\n",
       "4    Great phone service and options, lousy case!\n",
       "Name: title, dtype: object"
      ]
     },
     "execution_count": 16,
     "metadata": {},
     "output_type": "execute_result"
    }
   ],
   "source": [
    "reviews.head()"
   ]
  },
  {
   "cell_type": "markdown",
   "metadata": {},
   "source": [
    " ## Text Preprocessing"
   ]
  },
  {
   "cell_type": "markdown",
   "metadata": {},
   "source": [
    "### Import required libraries"
   ]
  },
  {
   "cell_type": "code",
   "execution_count": 17,
   "metadata": {},
   "outputs": [],
   "source": [
    "import nltk #Natural Language Toolkit library\n",
    "from nltk.corpus import stopwords #Library to remove stopwords\n",
    "from nltk.stem.porter import PorterStemmer #Library to stem words\n",
    "import re "
   ]
  },
  {
   "cell_type": "code",
   "execution_count": 18,
   "metadata": {},
   "outputs": [
    {
     "name": "stderr",
     "output_type": "stream",
     "text": [
      "[nltk_data] Downloading package stopwords to C:\\Users\\Aditya\n",
      "[nltk_data]     Dash\\AppData\\Roaming\\nltk_data...\n",
      "[nltk_data]   Package stopwords is already up-to-date!\n"
     ]
    },
    {
     "data": {
      "text/plain": [
       "True"
      ]
     },
     "execution_count": 18,
     "metadata": {},
     "output_type": "execute_result"
    }
   ],
   "source": [
    "nltk.download('stopwords')"
   ]
  },
  {
   "cell_type": "code",
   "execution_count": 19,
   "metadata": {},
   "outputs": [],
   "source": [
    "ps = PorterStemmer()"
   ]
  },
  {
   "cell_type": "code",
   "execution_count": 20,
   "metadata": {},
   "outputs": [],
   "source": [
    "m = len(reviews)"
   ]
  },
  {
   "cell_type": "code",
   "execution_count": 21,
   "metadata": {},
   "outputs": [],
   "source": [
    "data = []\n",
    "for i in range(m):\n",
    "    review = reviews[i]\n",
    "    review = re.sub('[^a-zA-Z]', ' ', review)\n",
    "    review = review.lower()\n",
    "    review = review.split()\n",
    "    review = [ps.stem(word) for word in review if word not in set(stopwords.words('english'))]\n",
    "    review = ' '.join(review)\n",
    "    data.append(review)"
   ]
  },
  {
   "cell_type": "markdown",
   "metadata": {},
   "source": [
    "### Creating bag of words model"
   ]
  },
  {
   "cell_type": "code",
   "execution_count": 22,
   "metadata": {},
   "outputs": [],
   "source": [
    "from sklearn.feature_extraction.text import CountVectorizer"
   ]
  },
  {
   "cell_type": "code",
   "execution_count": 23,
   "metadata": {},
   "outputs": [],
   "source": [
    "cv = CountVectorizer()"
   ]
  },
  {
   "cell_type": "code",
   "execution_count": 24,
   "metadata": {},
   "outputs": [],
   "source": [
    "X = cv.fit_transform(data).toarray()"
   ]
  },
  {
   "cell_type": "markdown",
   "metadata": {},
   "source": [
    "## Creating train and test set"
   ]
  },
  {
   "cell_type": "code",
   "execution_count": 25,
   "metadata": {},
   "outputs": [],
   "source": [
    "from sklearn.model_selection import train_test_split"
   ]
  },
  {
   "cell_type": "code",
   "execution_count": 26,
   "metadata": {},
   "outputs": [],
   "source": [
    "X_train, X_test, y_train, y_test = train_test_split(X, ratings.ravel(), test_size = 0.25, random_state = 42)"
   ]
  },
  {
   "cell_type": "code",
   "execution_count": 27,
   "metadata": {},
   "outputs": [],
   "source": [
    "max_features = X.shape[-1]"
   ]
  },
  {
   "cell_type": "code",
   "execution_count": 28,
   "metadata": {},
   "outputs": [
    {
     "data": {
      "text/plain": [
       "6984"
      ]
     },
     "execution_count": 28,
     "metadata": {},
     "output_type": "execute_result"
    }
   ],
   "source": [
    "max_features"
   ]
  },
  {
   "cell_type": "markdown",
   "metadata": {},
   "source": [
    "# Model Building"
   ]
  },
  {
   "cell_type": "markdown",
   "metadata": {},
   "source": [
    "## Libraries to build model"
   ]
  },
  {
   "cell_type": "code",
   "execution_count": 29,
   "metadata": {},
   "outputs": [],
   "source": [
    "import tensorflow.keras as keras"
   ]
  },
  {
   "cell_type": "code",
   "execution_count": 51,
   "metadata": {},
   "outputs": [],
   "source": [
    "model = keras.Sequential() #Model Instantiation"
   ]
  },
  {
   "cell_type": "code",
   "execution_count": 52,
   "metadata": {},
   "outputs": [],
   "source": [
    "model.add(keras.layers.Input(shape = (max_features,))) #Input Layer"
   ]
  },
  {
   "cell_type": "code",
   "execution_count": 53,
   "metadata": {},
   "outputs": [
    {
     "name": "stdout",
     "output_type": "stream",
     "text": [
      "WARNING:tensorflow:Large dropout rate: 0.8 (>0.5). In TensorFlow 2.x, dropout() uses dropout rate instead of keep_prob. Please ensure that this is intended.\n"
     ]
    }
   ],
   "source": [
    "model.add(keras.layers.Dense(units = 200, activation = 'relu')) #Hidden Layer\n",
    "model.add(keras.layers.Dropout(rate = 0.8))"
   ]
  },
  {
   "cell_type": "code",
   "execution_count": 54,
   "metadata": {},
   "outputs": [],
   "source": [
    "model.add(keras.layers.Dense(units = 1, activation = 'sigmoid')) #Output Layer"
   ]
  },
  {
   "cell_type": "code",
   "execution_count": 55,
   "metadata": {},
   "outputs": [],
   "source": [
    "model.compile(optimizer = 'adam', loss = 'binary_crossentropy', metrics = ['accuracy'])"
   ]
  },
  {
   "cell_type": "code",
   "execution_count": 56,
   "metadata": {},
   "outputs": [],
   "source": [
    "model_checkpoint = keras.callbacks.ModelCheckpoint('sentiment.h5', save_best_only = True)"
   ]
  },
  {
   "cell_type": "code",
   "execution_count": 57,
   "metadata": {},
   "outputs": [
    {
     "name": "stdout",
     "output_type": "stream",
     "text": [
      "Train on 40783 samples, validate on 10196 samples\n",
      "Epoch 1/100\n",
      "WARNING:tensorflow:Large dropout rate: 0.8 (>0.5). In TensorFlow 2.x, dropout() uses dropout rate instead of keep_prob. Please ensure that this is intended.\n",
      "40783/40783 [==============================] - 6s 149us/sample - loss: 0.3654 - accuracy: 0.8378 - val_loss: 0.3130 - val_accuracy: 0.8668\n",
      "Epoch 2/100\n",
      "40783/40783 [==============================] - 6s 136us/sample - loss: 0.2983 - accuracy: 0.8749 - val_loss: 0.3078 - val_accuracy: 0.8699\n",
      "Epoch 3/100\n",
      "40783/40783 [==============================] - 5s 134us/sample - loss: 0.2810 - accuracy: 0.8840 - val_loss: 0.3078 - val_accuracy: 0.8680\n",
      "Epoch 4/100\n",
      "40783/40783 [==============================] - 6s 136us/sample - loss: 0.2706 - accuracy: 0.8901 - val_loss: 0.3080 - val_accuracy: 0.8700\n",
      "Epoch 5/100\n",
      "40783/40783 [==============================] - 6s 143us/sample - loss: 0.2585 - accuracy: 0.8967 - val_loss: 0.3089 - val_accuracy: 0.8705\n",
      "Epoch 6/100\n",
      "40783/40783 [==============================] - 6s 143us/sample - loss: 0.2504 - accuracy: 0.8990 - val_loss: 0.3117 - val_accuracy: 0.8707\n",
      "Epoch 7/100\n",
      "40783/40783 [==============================] - 6s 136us/sample - loss: 0.2463 - accuracy: 0.9016 - val_loss: 0.3137 - val_accuracy: 0.8728\n",
      "Epoch 8/100\n",
      "40783/40783 [==============================] - 6s 148us/sample - loss: 0.2406 - accuracy: 0.9054 - val_loss: 0.3160 - val_accuracy: 0.8740\n",
      "Epoch 9/100\n",
      "40783/40783 [==============================] - 6s 148us/sample - loss: 0.2385 - accuracy: 0.9060 - val_loss: 0.3166 - val_accuracy: 0.8750\n",
      "Epoch 10/100\n",
      "40783/40783 [==============================] - 6s 155us/sample - loss: 0.2312 - accuracy: 0.9097 - val_loss: 0.3223 - val_accuracy: 0.8749\n",
      "Epoch 11/100\n",
      "40783/40783 [==============================] - 6s 149us/sample - loss: 0.2271 - accuracy: 0.9098 - val_loss: 0.3218 - val_accuracy: 0.8750\n",
      "Epoch 12/100\n",
      "40783/40783 [==============================] - 6s 154us/sample - loss: 0.2221 - accuracy: 0.9140 - val_loss: 0.3252 - val_accuracy: 0.8752\n",
      "Epoch 13/100\n",
      "40783/40783 [==============================] - 6s 143us/sample - loss: 0.2200 - accuracy: 0.9128 - val_loss: 0.3288 - val_accuracy: 0.8731\n",
      "Epoch 14/100\n",
      "40783/40783 [==============================] - 6s 143us/sample - loss: 0.2158 - accuracy: 0.9163 - val_loss: 0.3298 - val_accuracy: 0.8753\n",
      "Epoch 15/100\n",
      "40783/40783 [==============================] - 6s 146us/sample - loss: 0.2124 - accuracy: 0.9174 - val_loss: 0.3350 - val_accuracy: 0.8736\n",
      "Epoch 16/100\n",
      "40783/40783 [==============================] - 6s 151us/sample - loss: 0.2109 - accuracy: 0.9192 - val_loss: 0.3378 - val_accuracy: 0.8743\n",
      "Epoch 17/100\n",
      "40783/40783 [==============================] - 6s 135us/sample - loss: 0.2086 - accuracy: 0.9197 - val_loss: 0.3422 - val_accuracy: 0.8752\n",
      "Epoch 18/100\n",
      "40783/40783 [==============================] - 6s 146us/sample - loss: 0.2067 - accuracy: 0.9197 - val_loss: 0.3436 - val_accuracy: 0.8756\n",
      "Epoch 19/100\n",
      "40783/40783 [==============================] - 6s 152us/sample - loss: 0.2027 - accuracy: 0.9224 - val_loss: 0.3500 - val_accuracy: 0.8750\n",
      "Epoch 20/100\n",
      "40783/40783 [==============================] - 6s 142us/sample - loss: 0.2023 - accuracy: 0.9216 - val_loss: 0.3484 - val_accuracy: 0.8748\n",
      "Epoch 21/100\n",
      "40783/40783 [==============================] - 6s 158us/sample - loss: 0.2007 - accuracy: 0.9226 - val_loss: 0.3530 - val_accuracy: 0.8760\n",
      "Epoch 22/100\n",
      "40783/40783 [==============================] - 6s 156us/sample - loss: 0.1962 - accuracy: 0.9237 - val_loss: 0.3561 - val_accuracy: 0.8747\n",
      "Epoch 23/100\n",
      "40783/40783 [==============================] - 6s 147us/sample - loss: 0.1936 - accuracy: 0.9249 - val_loss: 0.3606 - val_accuracy: 0.8752\n",
      "Epoch 24/100\n",
      "40783/40783 [==============================] - 6s 140us/sample - loss: 0.1928 - accuracy: 0.9261 - val_loss: 0.3644 - val_accuracy: 0.8758\n",
      "Epoch 25/100\n",
      "40783/40783 [==============================] - 5s 132us/sample - loss: 0.1919 - accuracy: 0.9276 - val_loss: 0.3670 - val_accuracy: 0.8743\n",
      "Epoch 26/100\n",
      "40783/40783 [==============================] - 6s 136us/sample - loss: 0.1907 - accuracy: 0.9276 - val_loss: 0.3708 - val_accuracy: 0.8760\n",
      "Epoch 27/100\n",
      "40783/40783 [==============================] - 5s 135us/sample - loss: 0.1888 - accuracy: 0.9283 - val_loss: 0.3757 - val_accuracy: 0.8756\n",
      "Epoch 28/100\n",
      "40783/40783 [==============================] - 6s 139us/sample - loss: 0.1856 - accuracy: 0.9287 - val_loss: 0.3789 - val_accuracy: 0.8760\n",
      "Epoch 29/100\n",
      "40783/40783 [==============================] - 6s 136us/sample - loss: 0.1838 - accuracy: 0.9306 - val_loss: 0.3810 - val_accuracy: 0.8757\n",
      "Epoch 30/100\n",
      "40783/40783 [==============================] - 5s 130us/sample - loss: 0.1837 - accuracy: 0.9295 - val_loss: 0.3836 - val_accuracy: 0.8760\n",
      "Epoch 31/100\n",
      "40783/40783 [==============================] - 6s 144us/sample - loss: 0.1823 - accuracy: 0.9295 - val_loss: 0.3855 - val_accuracy: 0.8755\n",
      "Epoch 32/100\n",
      "40783/40783 [==============================] - 6s 136us/sample - loss: 0.1806 - accuracy: 0.9308 - val_loss: 0.3919 - val_accuracy: 0.8767\n",
      "Epoch 33/100\n",
      "40783/40783 [==============================] - 6s 138us/sample - loss: 0.1766 - accuracy: 0.9325 - val_loss: 0.3915 - val_accuracy: 0.8762\n",
      "Epoch 34/100\n",
      "40783/40783 [==============================] - 6s 147us/sample - loss: 0.1782 - accuracy: 0.9314 - val_loss: 0.3978 - val_accuracy: 0.8754\n",
      "Epoch 35/100\n",
      "40783/40783 [==============================] - 6s 148us/sample - loss: 0.1765 - accuracy: 0.9325 - val_loss: 0.4013 - val_accuracy: 0.8752\n",
      "Epoch 36/100\n",
      "40783/40783 [==============================] - 5s 133us/sample - loss: 0.1752 - accuracy: 0.9334 - val_loss: 0.4031 - val_accuracy: 0.8752\n",
      "Epoch 37/100\n",
      "40783/40783 [==============================] - 6s 141us/sample - loss: 0.1734 - accuracy: 0.9335 - val_loss: 0.4059 - val_accuracy: 0.8765\n",
      "Epoch 38/100\n",
      "40783/40783 [==============================] - 6s 150us/sample - loss: 0.1723 - accuracy: 0.9337 - val_loss: 0.4134 - val_accuracy: 0.8769\n",
      "Epoch 39/100\n",
      "40783/40783 [==============================] - 5s 134us/sample - loss: 0.1699 - accuracy: 0.9359 - val_loss: 0.4192 - val_accuracy: 0.8755\n",
      "Epoch 40/100\n",
      "40783/40783 [==============================] - 6s 153us/sample - loss: 0.1702 - accuracy: 0.9343 - val_loss: 0.4160 - val_accuracy: 0.8760\n",
      "Epoch 41/100\n",
      "40783/40783 [==============================] - 6s 144us/sample - loss: 0.1713 - accuracy: 0.9354 - val_loss: 0.4194 - val_accuracy: 0.8759\n",
      "Epoch 42/100\n",
      "40783/40783 [==============================] - 6s 148us/sample - loss: 0.1695 - accuracy: 0.9355 - val_loss: 0.4259 - val_accuracy: 0.8765\n",
      "Epoch 43/100\n",
      "40783/40783 [==============================] - 6s 145us/sample - loss: 0.1676 - accuracy: 0.9359 - val_loss: 0.4264 - val_accuracy: 0.8764\n",
      "Epoch 44/100\n",
      "40783/40783 [==============================] - 6s 137us/sample - loss: 0.1661 - accuracy: 0.9356 - val_loss: 0.4314 - val_accuracy: 0.8767\n",
      "Epoch 45/100\n",
      "40783/40783 [==============================] - 6s 150us/sample - loss: 0.1634 - accuracy: 0.9375 - val_loss: 0.4362 - val_accuracy: 0.8760\n",
      "Epoch 46/100\n",
      "40783/40783 [==============================] - 6s 152us/sample - loss: 0.1655 - accuracy: 0.9375 - val_loss: 0.4399 - val_accuracy: 0.8755\n",
      "Epoch 47/100\n",
      "40783/40783 [==============================] - 6s 145us/sample - loss: 0.1635 - accuracy: 0.9376 - val_loss: 0.4413 - val_accuracy: 0.8748\n",
      "Epoch 48/100\n",
      "40783/40783 [==============================] - 6s 138us/sample - loss: 0.1627 - accuracy: 0.9373 - val_loss: 0.4405 - val_accuracy: 0.8757\n",
      "Epoch 49/100\n",
      "40783/40783 [==============================] - 6s 145us/sample - loss: 0.1608 - accuracy: 0.9400 - val_loss: 0.4502 - val_accuracy: 0.8746\n",
      "Epoch 50/100\n",
      "40783/40783 [==============================] - 6s 141us/sample - loss: 0.1599 - accuracy: 0.9389 - val_loss: 0.4540 - val_accuracy: 0.8757\n",
      "Epoch 51/100\n",
      "40783/40783 [==============================] - 6s 143us/sample - loss: 0.1585 - accuracy: 0.9400 - val_loss: 0.4597 - val_accuracy: 0.8758\n",
      "Epoch 52/100\n",
      "40783/40783 [==============================] - 6s 144us/sample - loss: 0.1595 - accuracy: 0.9402 - val_loss: 0.4597 - val_accuracy: 0.8761\n",
      "Epoch 53/100\n"
     ]
    },
    {
     "name": "stdout",
     "output_type": "stream",
     "text": [
      "40783/40783 [==============================] - 6s 138us/sample - loss: 0.1583 - accuracy: 0.9396 - val_loss: 0.4659 - val_accuracy: 0.8751\n",
      "Epoch 54/100\n",
      "40783/40783 [==============================] - 5s 135us/sample - loss: 0.1568 - accuracy: 0.9398 - val_loss: 0.4653 - val_accuracy: 0.8753\n",
      "Epoch 55/100\n",
      "40783/40783 [==============================] - 6s 135us/sample - loss: 0.1585 - accuracy: 0.9396 - val_loss: 0.4646 - val_accuracy: 0.8747\n",
      "Epoch 56/100\n",
      "40783/40783 [==============================] - 6s 138us/sample - loss: 0.1586 - accuracy: 0.9396 - val_loss: 0.4722 - val_accuracy: 0.8747\n",
      "Epoch 57/100\n",
      "40783/40783 [==============================] - 6s 141us/sample - loss: 0.1559 - accuracy: 0.9417 - val_loss: 0.4764 - val_accuracy: 0.8743\n",
      "Epoch 58/100\n",
      "40783/40783 [==============================] - 6s 140us/sample - loss: 0.1540 - accuracy: 0.9415 - val_loss: 0.4812 - val_accuracy: 0.8746\n",
      "Epoch 59/100\n",
      "40783/40783 [==============================] - 8s 184us/sample - loss: 0.1557 - accuracy: 0.9406 - val_loss: 0.4805 - val_accuracy: 0.8746\n",
      "Epoch 60/100\n",
      "40783/40783 [==============================] - 6s 142us/sample - loss: 0.1557 - accuracy: 0.9414 - val_loss: 0.4837 - val_accuracy: 0.8742\n",
      "Epoch 61/100\n",
      "40783/40783 [==============================] - 6s 141us/sample - loss: 0.1532 - accuracy: 0.9413 - val_loss: 0.4904 - val_accuracy: 0.8748\n",
      "Epoch 62/100\n",
      "40783/40783 [==============================] - 6s 157us/sample - loss: 0.1521 - accuracy: 0.9428 - val_loss: 0.4905 - val_accuracy: 0.8750\n",
      "Epoch 63/100\n",
      "40783/40783 [==============================] - 6s 152us/sample - loss: 0.1535 - accuracy: 0.9424 - val_loss: 0.4905 - val_accuracy: 0.8741\n",
      "Epoch 64/100\n",
      "40783/40783 [==============================] - 6s 156us/sample - loss: 0.1526 - accuracy: 0.9425 - val_loss: 0.4916 - val_accuracy: 0.8747\n",
      "Epoch 65/100\n",
      "40783/40783 [==============================] - 6s 150us/sample - loss: 0.1511 - accuracy: 0.9424 - val_loss: 0.4964 - val_accuracy: 0.8753\n",
      "Epoch 66/100\n",
      "40783/40783 [==============================] - 6s 150us/sample - loss: 0.1512 - accuracy: 0.9418 - val_loss: 0.5032 - val_accuracy: 0.8741\n",
      "Epoch 67/100\n",
      "40783/40783 [==============================] - 6s 142us/sample - loss: 0.1529 - accuracy: 0.9428 - val_loss: 0.5026 - val_accuracy: 0.8735\n",
      "Epoch 68/100\n",
      "40783/40783 [==============================] - 6s 158us/sample - loss: 0.1504 - accuracy: 0.9417 - val_loss: 0.5070 - val_accuracy: 0.8738\n",
      "Epoch 69/100\n",
      "40783/40783 [==============================] - 6s 152us/sample - loss: 0.1515 - accuracy: 0.9424 - val_loss: 0.5141 - val_accuracy: 0.8739\n",
      "Epoch 70/100\n",
      "40783/40783 [==============================] - 6s 141us/sample - loss: 0.1504 - accuracy: 0.9426 - val_loss: 0.5154 - val_accuracy: 0.8750\n",
      "Epoch 71/100\n",
      "40783/40783 [==============================] - 6s 146us/sample - loss: 0.1479 - accuracy: 0.9438 - val_loss: 0.5195 - val_accuracy: 0.8748\n",
      "Epoch 72/100\n",
      "40783/40783 [==============================] - 6s 138us/sample - loss: 0.1485 - accuracy: 0.9439 - val_loss: 0.5197 - val_accuracy: 0.8748\n",
      "Epoch 73/100\n",
      "40783/40783 [==============================] - 6s 149us/sample - loss: 0.1506 - accuracy: 0.9424 - val_loss: 0.5239 - val_accuracy: 0.8744\n",
      "Epoch 74/100\n",
      "40783/40783 [==============================] - 6s 148us/sample - loss: 0.1487 - accuracy: 0.9428 - val_loss: 0.5247 - val_accuracy: 0.8738\n",
      "Epoch 75/100\n",
      "40783/40783 [==============================] - 6s 146us/sample - loss: 0.1461 - accuracy: 0.9441 - val_loss: 0.5283 - val_accuracy: 0.8748\n",
      "Epoch 76/100\n",
      "40783/40783 [==============================] - 6s 146us/sample - loss: 0.1480 - accuracy: 0.9444 - val_loss: 0.5284 - val_accuracy: 0.8750\n",
      "Epoch 77/100\n",
      "40783/40783 [==============================] - 6s 149us/sample - loss: 0.1468 - accuracy: 0.9449 - val_loss: 0.5331 - val_accuracy: 0.8742\n",
      "Epoch 78/100\n",
      "40783/40783 [==============================] - 5s 134us/sample - loss: 0.1436 - accuracy: 0.9451 - val_loss: 0.5409 - val_accuracy: 0.8750\n",
      "Epoch 79/100\n",
      "40783/40783 [==============================] - 5s 134us/sample - loss: 0.1461 - accuracy: 0.9450 - val_loss: 0.5492 - val_accuracy: 0.8746\n",
      "Epoch 80/100\n",
      "40783/40783 [==============================] - 5s 128us/sample - loss: 0.1446 - accuracy: 0.9453 - val_loss: 0.5435 - val_accuracy: 0.8747\n",
      "Epoch 81/100\n",
      "40783/40783 [==============================] - 5s 131us/sample - loss: 0.1432 - accuracy: 0.9455 - val_loss: 0.5464 - val_accuracy: 0.8730\n",
      "Epoch 82/100\n",
      "40783/40783 [==============================] - 5s 131us/sample - loss: 0.1446 - accuracy: 0.9451 - val_loss: 0.5506 - val_accuracy: 0.8746\n",
      "Epoch 83/100\n",
      "40783/40783 [==============================] - 6s 138us/sample - loss: 0.1431 - accuracy: 0.9462 - val_loss: 0.5535 - val_accuracy: 0.8736\n",
      "Epoch 84/100\n",
      "40783/40783 [==============================] - 6s 144us/sample - loss: 0.1448 - accuracy: 0.9452 - val_loss: 0.5552 - val_accuracy: 0.8744\n",
      "Epoch 85/100\n",
      "40783/40783 [==============================] - 6s 139us/sample - loss: 0.1444 - accuracy: 0.9448 - val_loss: 0.5573 - val_accuracy: 0.8739\n",
      "Epoch 86/100\n",
      "40783/40783 [==============================] - 6s 139us/sample - loss: 0.1455 - accuracy: 0.9451 - val_loss: 0.5554 - val_accuracy: 0.8734\n",
      "Epoch 87/100\n",
      "40783/40783 [==============================] - 6s 147us/sample - loss: 0.1437 - accuracy: 0.9453 - val_loss: 0.5608 - val_accuracy: 0.8745\n",
      "Epoch 88/100\n",
      "40783/40783 [==============================] - 6s 143us/sample - loss: 0.1434 - accuracy: 0.9466 - val_loss: 0.5710 - val_accuracy: 0.8733\n",
      "Epoch 89/100\n",
      "40783/40783 [==============================] - 6s 140us/sample - loss: 0.1416 - accuracy: 0.9467 - val_loss: 0.5751 - val_accuracy: 0.8724\n",
      "Epoch 90/100\n",
      "40783/40783 [==============================] - 6s 140us/sample - loss: 0.1417 - accuracy: 0.9463 - val_loss: 0.5752 - val_accuracy: 0.8729\n",
      "Epoch 91/100\n",
      "40783/40783 [==============================] - 6s 145us/sample - loss: 0.1441 - accuracy: 0.9453 - val_loss: 0.5760 - val_accuracy: 0.8736\n",
      "Epoch 92/100\n",
      "40783/40783 [==============================] - 6s 141us/sample - loss: 0.1434 - accuracy: 0.9465 - val_loss: 0.5792 - val_accuracy: 0.8750\n",
      "Epoch 93/100\n",
      "40783/40783 [==============================] - 6s 138us/sample - loss: 0.1427 - accuracy: 0.9455 - val_loss: 0.5802 - val_accuracy: 0.8734\n",
      "Epoch 94/100\n",
      "40783/40783 [==============================] - 5s 130us/sample - loss: 0.1424 - accuracy: 0.9461 - val_loss: 0.5813 - val_accuracy: 0.8729\n",
      "Epoch 95/100\n",
      "40783/40783 [==============================] - 5s 125us/sample - loss: 0.1397 - accuracy: 0.9471 - val_loss: 0.5887 - val_accuracy: 0.8733\n",
      "Epoch 96/100\n",
      "40783/40783 [==============================] - 5s 134us/sample - loss: 0.1411 - accuracy: 0.9464 - val_loss: 0.5868 - val_accuracy: 0.8744\n",
      "Epoch 97/100\n",
      "40783/40783 [==============================] - 6s 144us/sample - loss: 0.1389 - accuracy: 0.9467 - val_loss: 0.5894 - val_accuracy: 0.8743\n",
      "Epoch 98/100\n",
      "40783/40783 [==============================] - 6s 140us/sample - loss: 0.1379 - accuracy: 0.9479 - val_loss: 0.6009 - val_accuracy: 0.8736\n",
      "Epoch 99/100\n",
      "40783/40783 [==============================] - 6s 144us/sample - loss: 0.1421 - accuracy: 0.9468 - val_loss: 0.5929 - val_accuracy: 0.8746\n",
      "Epoch 100/100\n",
      "40783/40783 [==============================] - 6s 143us/sample - loss: 0.1392 - accuracy: 0.9474 - val_loss: 0.6065 - val_accuracy: 0.8750\n"
     ]
    }
   ],
   "source": [
    "history = model.fit(X_train, y_train, batch_size = 32, epochs = 100, validation_split = 0.2, callbacks = [model_checkpoint])"
   ]
  },
  {
   "cell_type": "code",
   "execution_count": 58,
   "metadata": {},
   "outputs": [
    {
     "name": "stdout",
     "output_type": "stream",
     "text": [
      "16993/16993 [==============================] - 2s 102us/sample - loss: 0.6160 - accuracy: 0.8772\n"
     ]
    },
    {
     "data": {
      "text/plain": [
       "[0.6160465055736323, 0.87718475]"
      ]
     },
     "execution_count": 58,
     "metadata": {},
     "output_type": "execute_result"
    }
   ],
   "source": [
    "model.evaluate(X_test, y_test)"
   ]
  },
  {
   "cell_type": "code",
   "execution_count": 59,
   "metadata": {},
   "outputs": [],
   "source": [
    "best = keras.models.load_model('sentiment.h5')"
   ]
  },
  {
   "cell_type": "code",
   "execution_count": 60,
   "metadata": {},
   "outputs": [
    {
     "name": "stdout",
     "output_type": "stream",
     "text": [
      "16993/16993 [==============================] - 2s 89us/sample - loss: 0.2992 - accuracy: 0.8741\n"
     ]
    },
    {
     "data": {
      "text/plain": [
       "[0.29922819589308264, 0.87412465]"
      ]
     },
     "execution_count": 60,
     "metadata": {},
     "output_type": "execute_result"
    }
   ],
   "source": [
    "best.evaluate(X_test, y_test)"
   ]
  },
  {
   "cell_type": "markdown",
   "metadata": {},
   "source": [
    "## Save CountVectorizer object"
   ]
  },
  {
   "cell_type": "code",
   "execution_count": 61,
   "metadata": {},
   "outputs": [],
   "source": [
    "import pickle"
   ]
  },
  {
   "cell_type": "code",
   "execution_count": 62,
   "metadata": {},
   "outputs": [],
   "source": [
    "with open('countvectorizer', 'wb') as fout:\n",
    "    pickle.dump(cv, fout)"
   ]
  },
  {
   "cell_type": "code",
   "execution_count": null,
   "metadata": {},
   "outputs": [],
   "source": []
  }
 ],
 "metadata": {
  "kernelspec": {
   "display_name": "Python 3",
   "language": "python",
   "name": "python3"
  },
  "language_info": {
   "codemirror_mode": {
    "name": "ipython",
    "version": 3
   },
   "file_extension": ".py",
   "mimetype": "text/x-python",
   "name": "python",
   "nbconvert_exporter": "python",
   "pygments_lexer": "ipython3",
   "version": "3.7.4"
  }
 },
 "nbformat": 4,
 "nbformat_minor": 2
}
